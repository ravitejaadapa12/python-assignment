{
 "cells": [
  {
   "cell_type": "markdown",
   "metadata": {
    "id": "6tgxENnLvLH7"
   },
   "source": [
    "# Assignment - Python Basics Practice\n",
    "\n",
    "\n"
   ]
  },
  {
   "cell_type": "markdown",
   "metadata": {
    "id": "1VqMdyiivLH-"
   },
   "source": [
    "## Variables and Data Types\n",
    "\n",
    "**Q: Assign your name to the variable `name`.**"
   ]
  },
  {
   "cell_type": "code",
   "execution_count": 15,
   "metadata": {
    "id": "yVIYuDDMvLH-"
   },
   "outputs": [],
   "source": [
    "name =\"Ravi Teja\""
   ]
  },
  {
   "cell_type": "markdown",
   "metadata": {
    "id": "QeK-QA7GvLH-"
   },
   "source": [
    "**Q: Assign your age (real or fake) to the variable `age`.**"
   ]
  },
  {
   "cell_type": "code",
   "execution_count": 17,
   "metadata": {
    "id": "axuBC-y6vLH_"
   },
   "outputs": [],
   "source": [
    "age = 22"
   ]
  },
  {
   "cell_type": "markdown",
   "metadata": {
    "id": "okMEWXHwvLH_"
   },
   "source": [
    "**Q: Assign a boolean value to the variable `has_android_phone`.**"
   ]
  },
  {
   "cell_type": "code",
   "execution_count": 19,
   "metadata": {
    "id": "Y6HA_IVGvLH_"
   },
   "outputs": [],
   "source": [
    "has_android_phone = True"
   ]
  },
  {
   "cell_type": "markdown",
   "metadata": {
    "id": "QfC_6aXfvLIA"
   },
   "source": [
    "**Q: Create a dictionary `person` with keys `\"Name\"`, `\"Age\"`, `\"HasAndroidPhone\"` and values using the variables defined above.**"
   ]
  },
  {
   "cell_type": "code",
   "execution_count": 21,
   "metadata": {
    "id": "VdNLm3L5vLIA"
   },
   "outputs": [],
   "source": [
    "person ={\n",
    "    \"Name\":\"Ravi Teja\",\n",
    "    \"Age\":22,\n",
    "    \"HasAndroidPhone\":True\n",
    "}"
   ]
  },
  {
   "cell_type": "markdown",
   "metadata": {
    "id": "ytlWYVM7vLIA"
   },
   "source": [
    "Let's use the `person` dictionary to print a nice message."
   ]
  },
  {
   "cell_type": "code",
   "execution_count": 23,
   "metadata": {
    "id": "r5sq7VvevLIA"
   },
   "outputs": [
    {
     "name": "stdout",
     "output_type": "stream",
     "text": [
      "key Name,type:<class 'str'>\n",
      "key Age,type:<class 'int'>\n",
      "key HasAndroidPhone,type:<class 'bool'>\n"
     ]
    }
   ],
   "source": [
    "for key,value in person.items():\n",
    "    print(f\"key {key},type:{type(value)}\")"
   ]
  },
  {
   "cell_type": "markdown",
   "metadata": {
    "id": "HyQ9W2bGvLIB"
   },
   "source": [
    "Use a `for` loop to display the `type` of each value stored against each key in `person`.**\n",
    "\n",
    "Here's the expected output for the key `\"Name\"`:\n",
    "\n",
    "```\n",
    "The key \"Name\" has the value \"Derek\" of the type \"<class 'str'>\"\n",
    "```"
   ]
  },
  {
   "cell_type": "markdown",
   "metadata": {
    "id": "L5VT5-3yvLIB"
   },
   "source": [
    "## Working with Lists\n",
    "\n",
    "**Q: Create a list containing the following 3 elements:**\n",
    "\n",
    "* your favorite color\n",
    "* the number of pets you have\n",
    "* a boolean value describing whether you have previous programming experience\n"
   ]
  },
  {
   "cell_type": "code",
   "execution_count": 26,
   "metadata": {
    "id": "KKXeilefvLIB"
   },
   "outputs": [],
   "source": [
    "List =[\"Blue\",0,True]"
   ]
  },
  {
   "cell_type": "markdown",
   "metadata": {
    "id": "qPMwq-6RvLIB"
   },
   "source": [
    "Let's see what the list looks like:"
   ]
  },
  {
   "cell_type": "code",
   "execution_count": 28,
   "metadata": {
    "id": "o8NZIpdVvLIB"
   },
   "outputs": [
    {
     "name": "stdout",
     "output_type": "stream",
     "text": [
      "['Blue', 0, True]\n"
     ]
    }
   ],
   "source": [
    "print(List)"
   ]
  },
  {
   "cell_type": "markdown",
   "metadata": {
    "id": "5yhV9OtPvLIB"
   },
   "source": [
    "**Q: Complete the following `print` and `if` statements by accessing the appropriate elements from `my_list`.**\n",
    "\n",
    "*Hint*: Use the list indexing notation `[]`."
   ]
  },
  {
   "cell_type": "code",
   "execution_count": 30,
   "metadata": {
    "id": "xkkR9UObvLIB"
   },
   "outputs": [
    {
     "name": "stdout",
     "output_type": "stream",
     "text": [
      "My favorite color is Blue\n"
     ]
    }
   ],
   "source": [
    "print('My favorite color is',List[0])"
   ]
  },
  {
   "cell_type": "code",
   "execution_count": 31,
   "metadata": {
    "id": "wS04XOMqvLIB"
   },
   "outputs": [
    {
     "name": "stdout",
     "output_type": "stream",
     "text": [
      "I have 0 pets.\n"
     ]
    }
   ],
   "source": [
    "print(f\"I have {List[1]} pets.\")"
   ]
  },
  {
   "cell_type": "code",
   "execution_count": 32,
   "metadata": {
    "id": "oj9kdoAUvLIB"
   },
   "outputs": [
    {
     "name": "stdout",
     "output_type": "stream",
     "text": [
      "I have previous programming experience\n"
     ]
    }
   ],
   "source": [
    "if List[2]==True:\n",
    "    print(\"I have previous programming experience\")\n",
    "else:\n",
    "    print(\"I do not have previous programming experience\")"
   ]
  },
  {
   "cell_type": "markdown",
   "metadata": {
    "id": "IBhCrzSmvLIC"
   },
   "source": [
    "**Q: Add your favorite single digit number to the end of the list using the appropriate list method.**"
   ]
  },
  {
   "cell_type": "code",
   "execution_count": 34,
   "metadata": {
    "id": "mknB7HzavLIC"
   },
   "outputs": [],
   "source": [
    "List.append(8)"
   ]
  },
  {
   "cell_type": "markdown",
   "metadata": {
    "id": "8i7A_tYAvLIC"
   },
   "source": [
    "Let's see if the number shows up in the list."
   ]
  },
  {
   "cell_type": "code",
   "execution_count": 36,
   "metadata": {
    "id": "IOWnzL2vvLIC"
   },
   "outputs": [
    {
     "data": {
      "text/plain": [
       "['Blue', 0, True, 8]"
      ]
     },
     "execution_count": 36,
     "metadata": {},
     "output_type": "execute_result"
    }
   ],
   "source": [
    "List"
   ]
  },
  {
   "cell_type": "markdown",
   "metadata": {
    "id": "SWHbz8oNvLIC"
   },
   "source": [
    "**Q: Remove the first element of the list, using the appropriate list method.**\n",
    "\n",
    "*Hint*: Check out methods of list here: https://www.w3schools.com/python/python_ref_list.asp"
   ]
  },
  {
   "cell_type": "code",
   "execution_count": 38,
   "metadata": {
    "id": "ym4Y8jKgvLIC"
   },
   "outputs": [
    {
     "data": {
      "text/plain": [
       "'Blue'"
      ]
     },
     "execution_count": 38,
     "metadata": {},
     "output_type": "execute_result"
    }
   ],
   "source": [
    "List.pop(0)"
   ]
  },
  {
   "cell_type": "code",
   "execution_count": 39,
   "metadata": {
    "id": "jySrd216vLIC"
   },
   "outputs": [
    {
     "data": {
      "text/plain": [
       "[0, True, 8]"
      ]
     },
     "execution_count": 39,
     "metadata": {},
     "output_type": "execute_result"
    }
   ],
   "source": [
    "List"
   ]
  },
  {
   "cell_type": "markdown",
   "metadata": {
    "id": "PoUaBIy6vLIC"
   },
   "source": [
    "**Q: Complete the `print` statement below to display the number of elements in `my_list`.**"
   ]
  },
  {
   "cell_type": "code",
   "execution_count": 41,
   "metadata": {
    "id": "dNKqXe-OvLIC"
   },
   "outputs": [
    {
     "name": "stdout",
     "output_type": "stream",
     "text": [
      "[0, True, 8]\n"
     ]
    }
   ],
   "source": [
    "print(List)"
   ]
  },
  {
   "cell_type": "markdown",
   "metadata": {
    "id": "zxabeFFzvLIH"
   },
   "source": [
    "## Conditions and loops\n",
    "\n",
    "**Q: Calculate and display the sum of all the numbers divisible by 7 between 18 and 534 i.e. `21+28+35+...+525+532`**.\n",
    "\n",
    "*Hint*: One way to do this is to loop over a `range` using `for` and use an `if` statement inside it."
   ]
  },
  {
   "cell_type": "code",
   "execution_count": 43,
   "metadata": {
    "id": "xBYbCDgqvLIH"
   },
   "outputs": [],
   "source": [
    "sum_of_numbers = 0\n",
    "for i in range(18,535):\n",
    "    if(i%7==0):\n",
    "        sum_of_numbers=sum_of_numbers+i\n",
    "    "
   ]
  },
  {
   "cell_type": "code",
   "execution_count": 44,
   "metadata": {
    "id": "ia99bHJhvLIH"
   },
   "outputs": [
    {
     "name": "stdout",
     "output_type": "stream",
     "text": [
      "The sum of all the numbers divisible by 7 between 18 and 534 is 20461\n"
     ]
    }
   ],
   "source": [
    "print('The sum of all the numbers divisible by 7 between 18 and 534 is', sum_of_numbers)"
   ]
  },
  {
   "cell_type": "markdown",
   "metadata": {
    "id": "4ViBWsq_CJR4"
   },
   "source": [
    "## Lists"
   ]
  },
  {
   "cell_type": "markdown",
   "metadata": {
    "id": "rGHhWCZKCLld"
   },
   "source": [
    "Q1: Write a Python program that takes a list of integers as input and performs the following operations:\n",
    "\n",
    "Remove all duplicates from the list.\n",
    "\n",
    "Sort the list in descending order.\n",
    "\n",
    "Print the second largest number from the list."
   ]
  },
  {
   "cell_type": "code",
   "execution_count": 47,
   "metadata": {
    "id": "SZ82tPFVvLIL"
   },
   "outputs": [
    {
     "data": {
      "text/plain": [
       "[1, 2, 3, 4, 5, 6, 9]"
      ]
     },
     "execution_count": 47,
     "metadata": {},
     "output_type": "execute_result"
    }
   ],
   "source": [
    "My_List=[1,2,3,4,5,6,5,3,2,9]\n",
    "New_List=list(set(My_List))\n",
    "New_List"
   ]
  },
  {
   "cell_type": "code",
   "execution_count": 48,
   "metadata": {},
   "outputs": [
    {
     "data": {
      "text/plain": [
       "[9, 6, 5, 4, 3, 2, 1]"
      ]
     },
     "execution_count": 48,
     "metadata": {},
     "output_type": "execute_result"
    }
   ],
   "source": [
    "New_List.sort()\n",
    "New_List.reverse()\n",
    "New_List"
   ]
  },
  {
   "cell_type": "markdown",
   "metadata": {
    "id": "XQEcpkFdCavt"
   },
   "source": [
    "## Dictionary"
   ]
  },
  {
   "cell_type": "markdown",
   "metadata": {
    "id": "sHTYSJczCTGB"
   },
   "source": [
    "Q2: Create a dictionary from two lists, one containing student names and the other containing their scores. Then, write a program to:\n",
    "\n",
    "Print the dictionary.\n",
    "\n",
    "Find the student with the highest score.\n",
    "\n",
    "Add a new student with a given score to the dictionary."
   ]
  },
  {
   "cell_type": "code",
   "execution_count": 51,
   "metadata": {
    "id": "1j5QxWp-CaPV"
   },
   "outputs": [
    {
     "name": "stdout",
     "output_type": "stream",
     "text": [
      "87\n"
     ]
    },
    {
     "data": {
      "text/plain": [
       "{'Raj': 78, 'Rishabh': 56, 'Vicky': 87, 'Sohail': 62, 'Prateek': 88}"
      ]
     },
     "execution_count": 51,
     "metadata": {},
     "output_type": "execute_result"
    }
   ],
   "source": [
    "Students=[\"Raj\",\"Rishabh\",\"Vicky\",\"Sohail\"]\n",
    "Scores = [78, 56, 87, 62]\n",
    "My_Dictionary = dict(zip(Students,Scores))\n",
    "My_Dictionary\n",
    "print(max(My_Dictionary.values()))\n",
    "Dictionary ={\n",
    "\"Prateek\":88\n",
    "}\n",
    "My_Dictionary.update(Dictionary)\n",
    "My_Dictionary"
   ]
  },
  {
   "cell_type": "markdown",
   "metadata": {
    "id": "2hyaanCNCiIi"
   },
   "source": [
    "#Tuple"
   ]
  },
  {
   "cell_type": "markdown",
   "metadata": {
    "id": "JXCvRY60CdIC"
   },
   "source": [
    "3: Write a Python program to create a tuple from a list of integers. Then:\n",
    "\n",
    "Find the minimum, maximum, and sum of the elements in the tuple.\n",
    "\n",
    "Convert the tuple into a string and print it."
   ]
  },
  {
   "cell_type": "code",
   "execution_count": 54,
   "metadata": {
    "id": "DuJ7X4WECjob"
   },
   "outputs": [
    {
     "name": "stdout",
     "output_type": "stream",
     "text": [
      "78\n",
      "13\n",
      "(34, 54, 69, 34, 13, 78)\n"
     ]
    }
   ],
   "source": [
    "My_Tuple =(34,54,69,34,13,78)\n",
    "print(max(My_Tuple))\n",
    "print(min(My_Tuple))\n",
    "\n",
    "total = sum(My_Tuple)\n",
    "print(My_Tuple)"
   ]
  },
  {
   "cell_type": "markdown",
   "metadata": {
    "id": "1kYvyW6XCzeq"
   },
   "source": [
    "##Numpy"
   ]
  },
  {
   "cell_type": "markdown",
   "metadata": {
    "id": "OPqNJ7fyCkAA"
   },
   "source": [
    "\n",
    "Q4: Using the NumPy library:\n",
    "\n",
    "Create a 3x3 matrix filled with random integers between 1 and 20.\n",
    "\n",
    "Replace all values greater than 10 with 0.\n",
    "\n",
    "Find the mean of the modified matrix."
   ]
  },
  {
   "cell_type": "code",
   "execution_count": 57,
   "metadata": {
    "id": "nYOz4En9CxGp"
   },
   "outputs": [
    {
     "data": {
      "text/plain": [
       "3.0"
      ]
     },
     "execution_count": 57,
     "metadata": {},
     "output_type": "execute_result"
    }
   ],
   "source": [
    "import numpy as np\n",
    "import random\n",
    "Matrix = np.random.randint(1,21,size=(3,3))\n",
    "Matrix\n",
    "Matrix[Matrix > 10]=0\n",
    "Matrix\n",
    "Matrix.mean()\n"
   ]
  },
  {
   "cell_type": "markdown",
   "metadata": {
    "id": "8Z0UcbZXC1U0"
   },
   "source": [
    "## Pandas"
   ]
  },
  {
   "cell_type": "markdown",
   "metadata": {
    "id": "abiz20V4C1RS"
   },
   "source": [
    "Q5: Using the Pandas library:\n",
    "\n",
    "Create a DataFrame from a dictionary where the keys are column names, and the values are lists representing data for each column.\n",
    "\n",
    "Add a new column to the DataFrame by calculating the difference between two existing columns.\n",
    "\n",
    "Drop any rows where the value in a specific column is less than 50."
   ]
  },
  {
   "cell_type": "code",
   "execution_count": 60,
   "metadata": {
    "id": "ah5WJvzDC7iK"
   },
   "outputs": [
    {
     "name": "stdout",
     "output_type": "stream",
     "text": [
      "       Name  Age     City  Salary\n",
      "0      Ajay   57  Udaipur   10000\n",
      "1     Ronak   55   Shimla   25000\n",
      "2  Shirjesh   19    Delhi   90000\n",
      "       Name  Age     City  Salary  Marks\n",
      "0      Ajay   57  Udaipur   10000   9943\n",
      "1     Ronak   55   Shimla   25000  24945\n",
      "2  Shirjesh   19    Delhi   90000  89981\n",
      "       Name  Age   City  Salary  Marks\n",
      "2  Shirjesh   19  Delhi   90000  89981\n"
     ]
    }
   ],
   "source": [
    "import pandas as pd\n",
    "Students={\n",
    "\"Name\":[\"Ajay\",\"Ronak\",\"Shirjesh\"],\n",
    "\"Age\":[57,55,19],\n",
    "\"City\":[\"Udaipur\",\"Shimla\",\"Delhi\"],\n",
    "\"Salary\":[10000,25000,90000]\n",
    "}\n",
    "df=pd.DataFrame(Students)\n",
    "print(df)\n",
    "df[\"Marks\"] = df[\"Salary\"]-df[\"Age\"]\n",
    "print(df)\n",
    "df = df[df[\"Age\"]<50]\n",
    "print(df)\n"
   ]
  },
  {
   "cell_type": "markdown",
   "metadata": {
    "id": "VF5MTuC7C_94"
   },
   "source": [
    "##Exception Handling"
   ]
  },
  {
   "cell_type": "markdown",
   "metadata": {
    "id": "vLTDuZGuC_3d"
   },
   "source": [
    "\n",
    "Q6: Write a Python program to perform division of two user-input numbers. Implement exception handling to:\n",
    "\n",
    "Catch the division by zero error.\n",
    "\n",
    "Catch invalid input type errors (e.g., if the user enters a string instead of a number).\n",
    "\n",
    "Ensure the program runs successfully even if an error occurs. (Hint: Add finally)"
   ]
  },
  {
   "cell_type": "code",
   "execution_count": 63,
   "metadata": {
    "id": "ktyOho_2DHyP"
   },
   "outputs": [
    {
     "name": "stdout",
     "output_type": "stream",
     "text": [
      "Please enter valid data type\n"
     ]
    }
   ],
   "source": [
    "a=10\n",
    "b=\"hi\"\n",
    "try:\n",
    "    Ans=a/b\n",
    "    print(\"The output is\",Ans)\n",
    "except ZeroDivisionError:\n",
    "    print(\"The output cannot be Determined\")\n",
    "except TypeError:\n",
    "    print(\"Please enter valid data type\")\n"
   ]
  },
  {
   "cell_type": "markdown",
   "metadata": {
    "id": "rNyZu1w9DeTz"
   },
   "source": [
    "## Matplotlib"
   ]
  },
  {
   "cell_type": "markdown",
   "metadata": {
    "id": "Udg5GavODMuT"
   },
   "source": [
    "\n",
    "Q7: Create a line chart using the Matplotlib library to display the population growth over years. The program should:\n",
    "\n",
    "Create dummy data: containing years and population values.\n",
    "\n",
    "Plot the line chart with proper labels for the x-axis, y-axis, and a title."
   ]
  },
  {
   "cell_type": "code",
   "execution_count": 90,
   "metadata": {
    "id": "k6nTd1wRDdUg"
   },
   "outputs": [
    {
     "data": {
      "image/png": "[encoded data removed]",
      "text/plain": [
       "<Figure size 640x480 with 1 Axes>"
      ]
     },
     "metadata": {},
     "output_type": "display_data"
    }
   ],
   "source": [
    "import matplotlib.pyplot as pt\n",
    "import pandas as pd\n",
    "data={\n",
    "\"Years\":[2010,2011,2012,2013,2014,2015],\n",
    "\"Population\":[570000,670000,910000,1100000,1400000,1750000]\n",
    "}\n",
    "DF=pd.DataFrame(data)\n",
    "pt.plot(DF[\"Years\"],DF[\"Population\"],marker='x')\n",
    "pt.xlabel(\"Years\")\n",
    "pt.ylabel(\"Population\")\n",
    "pt.show()\n"
   ]
  },
  {
   "cell_type": "markdown",
   "metadata": {
    "id": "_W9lJpzZDxNF"
   },
   "source": [
    "## Seaborn"
   ]
  },
  {
   "cell_type": "markdown",
   "metadata": {
    "id": "hM12mAgqDyId"
   },
   "source": [
    "\n",
    "Q8: Using the Seaborn library, plot a distribution of the sepal_length column from the Iris dataset. The program should:\n",
    "\n",
    "Load the 'iris' dataset from Seaborn's sample datasets.\n",
    "Plot a KDE (Kernel Density Estimation) plot for the sepal_length column.\n",
    "Customize the plot with a title and set the color of the plot to blue.\n"
   ]
  },
  {
   "cell_type": "code",
   "execution_count": 112,
   "metadata": {
    "id": "3CYknAGGDzpK"
   },
   "outputs": [
    {
     "data": {
      "text/plain": [
       "Text(0.5, 1.0, 'Kernel Density Estimation')"
      ]
     },
     "execution_count": 112,
     "metadata": {},
     "output_type": "execute_result"
    },
    {
     "data": {
      "image/png": "[encoded data removed]",
      "text/plain": [
       "<Figure size 640x480 with 1 Axes>"
      ]
     },
     "metadata": {},
     "output_type": "display_data"
    }
   ],
   "source": [
    "import seaborn as sn\n",
    "import matplotlib.pyplot as pt\n",
    "Dataset = sn.load_dataset(\"iris\")\n",
    "sn.kdeplot(data=Dataset,x=\"sepal_length\", color='blue')\n",
    "pt.title(\"Kernel Density Estimation\")\n"
   ]
  },
  {
   "cell_type": "markdown",
   "metadata": {
    "id": "fFTydMAXD-cD"
   },
   "source": [
    "## Pandas DataFrame"
   ]
  },
  {
   "cell_type": "markdown",
   "metadata": {
    "id": "nZSrcAuuD-Yt"
   },
   "source": [
    "\n",
    "Q9: Write a Python program to perform the following operations on the Iris dataset:\n",
    "\n",
    "Load the dataset into a Pandas DataFrame.\n",
    "\n",
    "Display the first 10 rows of the DataFrame.\n",
    "\n",
    "Group the data by the species column and calculate the mean of each numeric column for each species.\n",
    "\n",
    "Add a new column sepal_area that is the product of sepal_length and sepal_width.\n",
    "\n",
    "Filter the DataFrame to show only rows where sepal_area is greater than 20."
   ]
  },
  {
   "cell_type": "code",
   "execution_count": 136,
   "metadata": {
    "id": "vWpR1ZA1EE5v"
   },
   "outputs": [
    {
     "name": "stdout",
     "output_type": "stream",
     "text": [
      "            sepal_length  sepal_width  petal_length  petal_width\n",
      "species                                                         \n",
      "setosa             5.006        3.428         1.462        0.246\n",
      "versicolor         5.936        2.770         4.260        1.326\n",
      "virginica          6.588        2.974         5.552        2.026\n",
      "   sepal_length  sepal_width  petal_length  petal_width species  sepal_area\n",
      "0           5.1          3.5           1.4          0.2  setosa       17.85\n",
      "1           4.9          3.0           1.4          0.2  setosa       14.70\n",
      "2           4.7          3.2           1.3          0.2  setosa       15.04\n",
      "3           4.6          3.1           1.5          0.2  setosa       14.26\n",
      "4           5.0          3.6           1.4          0.2  setosa       18.00\n",
      "5           5.4          3.9           1.7          0.4  setosa       21.06\n",
      "6           4.6          3.4           1.4          0.3  setosa       15.64\n",
      "7           5.0          3.4           1.5          0.2  setosa       17.00\n",
      "8           4.4          2.9           1.4          0.2  setosa       12.76\n",
      "9           4.9          3.1           1.5          0.1  setosa       15.19\n",
      "     sepal_length  sepal_width  petal_length  petal_width     species  \\\n",
      "5             5.4          3.9           1.7          0.4      setosa   \n",
      "14            5.8          4.0           1.2          0.2      setosa   \n",
      "15            5.7          4.4           1.5          0.4      setosa   \n",
      "16            5.4          3.9           1.3          0.4      setosa   \n",
      "18            5.7          3.8           1.7          0.3      setosa   \n",
      "32            5.2          4.1           1.5          0.1      setosa   \n",
      "33            5.5          4.2           1.4          0.2      setosa   \n",
      "50            7.0          3.2           4.7          1.4  versicolor   \n",
      "51            6.4          3.2           4.5          1.5  versicolor   \n",
      "52            6.9          3.1           4.9          1.5  versicolor   \n",
      "56            6.3          3.3           4.7          1.6  versicolor   \n",
      "65            6.7          3.1           4.4          1.4  versicolor   \n",
      "77            6.7          3.0           5.0          1.7  versicolor   \n",
      "85            6.0          3.4           4.5          1.6  versicolor   \n",
      "86            6.7          3.1           4.7          1.5  versicolor   \n",
      "100           6.3          3.3           6.0          2.5   virginica   \n",
      "102           7.1          3.0           5.9          2.1   virginica   \n",
      "105           7.6          3.0           6.6          2.1   virginica   \n",
      "107           7.3          2.9           6.3          1.8   virginica   \n",
      "109           7.2          3.6           6.1          2.5   virginica   \n",
      "110           6.5          3.2           5.1          2.0   virginica   \n",
      "112           6.8          3.0           5.5          2.1   virginica   \n",
      "115           6.4          3.2           5.3          2.3   virginica   \n",
      "117           7.7          3.8           6.7          2.2   virginica   \n",
      "118           7.7          2.6           6.9          2.3   virginica   \n",
      "120           6.9          3.2           5.7          2.3   virginica   \n",
      "122           7.7          2.8           6.7          2.0   virginica   \n",
      "124           6.7          3.3           5.7          2.1   virginica   \n",
      "125           7.2          3.2           6.0          1.8   virginica   \n",
      "129           7.2          3.0           5.8          1.6   virginica   \n",
      "130           7.4          2.8           6.1          1.9   virginica   \n",
      "131           7.9          3.8           6.4          2.0   virginica   \n",
      "135           7.7          3.0           6.1          2.3   virginica   \n",
      "136           6.3          3.4           5.6          2.4   virginica   \n",
      "139           6.9          3.1           5.4          2.1   virginica   \n",
      "140           6.7          3.1           5.6          2.4   virginica   \n",
      "141           6.9          3.1           5.1          2.3   virginica   \n",
      "143           6.8          3.2           5.9          2.3   virginica   \n",
      "144           6.7          3.3           5.7          2.5   virginica   \n",
      "145           6.7          3.0           5.2          2.3   virginica   \n",
      "148           6.2          3.4           5.4          2.3   virginica   \n",
      "\n",
      "     sepal_area  \n",
      "5         21.06  \n",
      "14        23.20  \n",
      "15        25.08  \n",
      "16        21.06  \n",
      "18        21.66  \n",
      "32        21.32  \n",
      "33        23.10  \n",
      "50        22.40  \n",
      "51        20.48  \n",
      "52        21.39  \n",
      "56        20.79  \n",
      "65        20.77  \n",
      "77        20.10  \n",
      "85        20.40  \n",
      "86        20.77  \n",
      "100       20.79  \n",
      "102       21.30  \n",
      "105       22.80  \n",
      "107       21.17  \n",
      "109       25.92  \n",
      "110       20.80  \n",
      "112       20.40  \n",
      "115       20.48  \n",
      "117       29.26  \n",
      "118       20.02  \n",
      "120       22.08  \n",
      "122       21.56  \n",
      "124       22.11  \n",
      "125       23.04  \n",
      "129       21.60  \n",
      "130       20.72  \n",
      "131       30.02  \n",
      "135       23.10  \n",
      "136       21.42  \n",
      "139       21.39  \n",
      "140       20.77  \n",
      "141       21.39  \n",
      "143       21.76  \n",
      "144       22.11  \n",
      "145       20.10  \n",
      "148       21.08  \n"
     ]
    }
   ],
   "source": [
    "import pandas as pd\n",
    "import seaborn as sn\n",
    "Dataset = sn.load_dataset(\"iris\")\n",
    "Mean = Dataset.groupby(\"species\").mean()\n",
    "print(Mean)\n",
    "Dataset[\"sepal_area\"] = Dataset[\"sepal_length\"]*Dataset[\"sepal_width\"]\n",
    "print(Dataset.head(10))\n",
    "Dataset=Dataset[Dataset[\"sepal_area\"]>20]\n",
    "print(Dataset)"
   ]
  },
  {
   "cell_type": "markdown",
   "metadata": {
    "id": "boirWrgRElAS"
   },
   "source": [
    "## Functions"
   ]
  },
  {
   "cell_type": "markdown",
   "metadata": {
    "id": "Ve2MS7VKEk9C"
   },
   "source": [
    "Q10: Write a Python program that defines a function to calculate the Body Mass Index (BMI) based on a person's weight and height. The program should:\n",
    "\n",
    "Define a function calculate_bmi(weight, height) that takes the weight (in kilograms) and height (in meters) as arguments and returns the BMI.\n",
    "\n",
    "BMI = weight/(height**2)\n",
    "\n",
    "Use the function to calculate the BMI for a given weight and height input by the user.\n",
    "\n",
    "Define another function bmi_category(bmi) that takes the BMI as input and returns the BMI category:\n",
    "\n",
    "\"Underweight\" if BMI < 18.5\n",
    "\n",
    "\"Normal weight\" if 18.5 <= BMI < 24.9\n",
    "\n",
    "\"Overweight\" if 25 <= BMI < 29.9\n",
    "\n",
    "\"Obese\" if BMI >= 30\n",
    "\n",
    "(Hint; use if elif else multiple conditions)\n",
    "\n",
    "Print the calculated BMI and the corresponding category."
   ]
  },
  {
   "cell_type": "code",
   "execution_count": 154,
   "metadata": {
    "id": "vk_rMP-8E31G"
   },
   "outputs": [
    {
     "name": "stdin",
     "output_type": "stream",
     "text": [
      "Enter the weight 12334.5\n",
      "Enter the Height 3.4\n"
     ]
    },
    {
     "name": "stdout",
     "output_type": "stream",
     "text": [
      "Obese\n"
     ]
    }
   ],
   "source": [
    "def calculate_bmi(weight,height):\n",
    "    BMI = weight/(height**2)\n",
    "    return BMI_category(BMI)\n",
    "def BMI_category(BMI):\n",
    "    if(BMI < 18.5):\n",
    "        return \"Underweight\"\n",
    "    elif(BMI>=18.5 and BMI <24.9):\n",
    "        return \"Normal weight\"\n",
    "    elif(BMI>=25 and BMI <29.9):\n",
    "        return \"Overweight\"\n",
    "    else:\n",
    "        return \"Obese\"\n",
    "Weight = float(input(\"Enter the weight\"))\n",
    "Height = float(input(\"Enter the Height\"))\n",
    "Calculated_BMI = calculate_bmi(Weight,Height)\n",
    "print(Calculated_BMI)"
   ]
  },
  {
   "cell_type": "code",
   "execution_count": null,
   "metadata": {},
   "outputs": [],
   "source": []
  }
 ],
 "metadata": {
  "colab": {
   "provenance": []
  },
  "kernelspec": {
   "display_name": "Python 3 (ipykernel)",
   "language": "python",
   "name": "python3"
  },
  "language_info": {
   "codemirror_mode": {
    "name": "ipython",
    "version": 3
   },
   "file_extension": ".py",
   "mimetype": "text/x-python",
   "name": "python",
   "nbconvert_exporter": "python",
   "pygments_lexer": "ipython3",
   "version": "3.12.4"
  }
 },
 "nbformat": 4,
 "nbformat_minor": 4
}
