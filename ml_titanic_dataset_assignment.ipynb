{
  "nbformat": 4,
  "nbformat_minor": 0,
  "metadata": {
    "colab": {
      "provenance": [],
      "toc_visible": true,
      "include_colab_link": true
    },
    "kernelspec": {
      "name": "python3",
      "display_name": "Python 3"
    },
    "language_info": {
      "name": "python"
    }
  },
  "cells": [
    {
      "cell_type": "markdown",
      "metadata": {
        "id": "view-in-github",
        "colab_type": "text"
      },
      "source": [
        "<a href=\"https://colab.research.google.com/github/ravitejaadapa12/python-assignment/blob/main/ml_titanic_dataset_assignment.ipynb\" target=\"_parent\"><img src=\"https://colab.research.google.com/assets/colab-badge.svg\" alt=\"Open In Colab\"/></a>"
      ]
    },
    {
      "cell_type": "code",
      "execution_count": 1,
      "metadata": {
        "id": "uNKZRir3zPez"
      },
      "outputs": [],
      "source": [
        "import pandas as pd\n",
        "from sklearn.impute import SimpleImputer\n",
        "from sklearn.preprocessing import LabelEncoder, StandardScaler\n",
        "from sklearn.model_selection import train_test_split, RandomizedSearchCV, StratifiedKFold\n",
        "from sklearn.ensemble import RandomForestClassifier\n",
        "from sklearn.metrics import accuracy_score, classification_report\n",
        "import numpy as np"
      ]
    },
    {
      "cell_type": "code",
      "source": [
        "# Load the dataset\n",
        "file_path ='/content/titanic_dataset-1 (1) (1).csv'\n",
        "titanic_data = pd.read_csv(file_path)"
      ],
      "metadata": {
        "id": "iZJLreOT7FUO"
      },
      "execution_count": 3,
      "outputs": []
    },
    {
      "cell_type": "code",
      "source": [
        "# Feature Engineering\n",
        "# Fill missing 'Age' with median\n",
        "age_imputer = SimpleImputer(strategy='median')\n",
        "titanic_data['Age'] = age_imputer.fit_transform(titanic_data[['Age']])"
      ],
      "metadata": {
        "id": "7tQYUoJx7FR9"
      },
      "execution_count": 4,
      "outputs": []
    },
    {
      "cell_type": "code",
      "source": [
        "# Fill missing 'Embarked' with the most frequent value\n",
        "embarked_imputer = SimpleImputer(strategy='most_frequent')\n",
        "\n",
        "# The following line is modified to extract the first column (index 0) of the transformed array\n",
        "titanic_data['Embarked'] = embarked_imputer.fit_transform(titanic_data[['Embarked']])[:, 0]\n",
        "\n",
        "# Drop irrelevant columns\n",
        "titanic_data.drop(columns=['Cabin', 'Name', 'Ticket', 'PassengerId'], inplace=True)\n",
        "\n",
        "# Create a new feature 'FamilySize'\n",
        "titanic_data['FamilySize'] = titanic_data['SibSp'] + titanic_data['Parch']\n",
        "\n",
        "# Encode categorical variables\n",
        "titanic_data['Sex'] = LabelEncoder().fit_transform(titanic_data['Sex'])\n",
        "titanic_data = pd.get_dummies(titanic_data, columns=['Embarked'], drop_first=True)"
      ],
      "metadata": {
        "id": "zlF08QTi7FPw"
      },
      "execution_count": 5,
      "outputs": []
    },
    {
      "cell_type": "code",
      "source": [
        "# Scaling numeric features\n",
        "scaler = StandardScaler()\n",
        "numeric_features = ['Age', 'Fare', 'FamilySize']\n",
        "titanic_data[numeric_features] = scaler.fit_transform(titanic_data[numeric_features])\n",
        "\n",
        "# Split dataset into features and target\n",
        "X = titanic_data.drop(columns=['Survived'])\n",
        "y = titanic_data['Survived']\n",
        "\n",
        "# Split into train and test sets\n",
        "X_train, X_test, y_train, y_test = train_test_split(X, y, test_size=0.2, random_state=42, stratify=y)\n",
        "\n",
        "# Initialize RandomForestClassifier\n",
        "rf_model = RandomForestClassifier(random_state=42)"
      ],
      "metadata": {
        "id": "WNe83GqN7FNu"
      },
      "execution_count": 6,
      "outputs": []
    },
    {
      "cell_type": "code",
      "source": [
        "# Hyperparameter tuning with RandomizedSearchCV\n",
        "param_dist = {\n",
        "    'n_estimators': [100, 200, 300, 500],\n",
        "    'max_depth': [None, 10, 20, 30],\n",
        "    'min_samples_split': [2, 5, 10],\n",
        "    'min_samples_leaf': [1, 2, 4],\n",
        "    'max_features': ['auto', 'sqrt', 'log2']\n",
        "}\n",
        "\n",
        "random_search = RandomizedSearchCV(\n",
        "    estimator=rf_model,\n",
        "    param_distributions=param_dist,\n",
        "    n_iter=100,\n",
        "    cv=StratifiedKFold(n_splits=5),\n",
        "    scoring='accuracy',\n",
        "    n_jobs=-1,\n",
        "    random_state=42,\n",
        "    verbose=2\n",
        ")"
      ],
      "metadata": {
        "id": "_n18Pd5I7FLW"
      },
      "execution_count": 7,
      "outputs": []
    },
    {
      "cell_type": "code",
      "source": [
        "# Fit the model\n",
        "random_search.fit(X_train, y_train)\n",
        "\n",
        "# Best parameters and model\n",
        "best_model = random_search.best_estimator_\n",
        "best_params = random_search.best_params_\n",
        "best_accuracy = random_search.best_score_\n",
        "\n",
        "# Predict on test set\n",
        "y_pred = best_model.predict(X_test)\n",
        "\n",
        "# Final accuracy and classification report\n",
        "test_accuracy = accuracy_score(y_test, y_pred)\n",
        "report = classification_report(y_test, y_pred)"
      ],
      "metadata": {
        "colab": {
          "base_uri": "https://localhost:8080/"
        },
        "id": "v9LQOxB97FI-",
        "outputId": "1301c334-65a9-4a12-fee2-e5d540180f31"
      },
      "execution_count": 9,
      "outputs": [
        {
          "output_type": "stream",
          "name": "stdout",
          "text": [
            "Fitting 5 folds for each of 100 candidates, totalling 500 fits\n"
          ]
        },
        {
          "output_type": "stream",
          "name": "stderr",
          "text": [
            "/usr/local/lib/python3.10/dist-packages/sklearn/model_selection/_validation.py:540: FitFailedWarning: \n",
            "160 fits failed out of a total of 500.\n",
            "The score on these train-test partitions for these parameters will be set to nan.\n",
            "If these failures are not expected, you can try to debug them by setting error_score='raise'.\n",
            "\n",
            "Below are more details about the failures:\n",
            "--------------------------------------------------------------------------------\n",
            "160 fits failed with the following error:\n",
            "Traceback (most recent call last):\n",
            "  File \"/usr/local/lib/python3.10/dist-packages/sklearn/model_selection/_validation.py\", line 888, in _fit_and_score\n",
            "    estimator.fit(X_train, y_train, **fit_params)\n",
            "  File \"/usr/local/lib/python3.10/dist-packages/sklearn/base.py\", line 1466, in wrapper\n",
            "    estimator._validate_params()\n",
            "  File \"/usr/local/lib/python3.10/dist-packages/sklearn/base.py\", line 666, in _validate_params\n",
            "    validate_parameter_constraints(\n",
            "  File \"/usr/local/lib/python3.10/dist-packages/sklearn/utils/_param_validation.py\", line 95, in validate_parameter_constraints\n",
            "    raise InvalidParameterError(\n",
            "sklearn.utils._param_validation.InvalidParameterError: The 'max_features' parameter of RandomForestClassifier must be an int in the range [1, inf), a float in the range (0.0, 1.0], a str among {'log2', 'sqrt'} or None. Got 'auto' instead.\n",
            "\n",
            "  warnings.warn(some_fits_failed_message, FitFailedWarning)\n",
            "/usr/local/lib/python3.10/dist-packages/numpy/ma/core.py:2820: RuntimeWarning: invalid value encountered in cast\n",
            "  _data = np.array(data, dtype=dtype, copy=copy,\n",
            "/usr/local/lib/python3.10/dist-packages/sklearn/model_selection/_search.py:1103: UserWarning: One or more of the test scores are non-finite: [0.82734167 0.80068945 0.80770216        nan 0.82592337 0.82314587\n",
            " 0.82174727 0.82594307 0.82173742 0.82170787 0.82454447 0.82031912\n",
            " 0.82454447        nan 0.80068945 0.82172757 0.82032897 0.79649365\n",
            "        nan 0.82734167 0.82031912        nan 0.82312617 0.82454447\n",
            "        nan        nan 0.82031912 0.81752191        nan 0.82312617\n",
            "        nan 0.80068945 0.82310647 0.82314587 0.81752191 0.81472471\n",
            " 0.82453462        nan 0.82031912 0.82592337        nan 0.82315572\n",
            " 0.81330641 0.79789225        nan        nan 0.82035851 0.81468531\n",
            "        nan 0.82454447        nan        nan        nan        nan\n",
            "        nan 0.81610361 0.82594307 0.82735152 0.82031912 0.82035851\n",
            "        nan 0.82592337 0.81470501 0.82174727 0.81470501        nan\n",
            " 0.82874027 0.82170787 0.82734167 0.81330641        nan 0.82734167\n",
            " 0.82592337 0.82734167 0.81752191        nan        nan 0.82035851\n",
            " 0.82734167        nan 0.82032897 0.82314587 0.82314587        nan\n",
            "        nan        nan 0.82312617        nan        nan        nan\n",
            " 0.82030927 0.82454447 0.81750222        nan 0.82032897 0.82174727\n",
            " 0.81891067 0.82315572        nan 0.82315572]\n",
            "  warnings.warn(\n"
          ]
        }
      ]
    },
    {
      "cell_type": "code",
      "source": [
        "print(\"Best Parameters:\", best_params)\n",
        "print(\"Best Cross-Validation Accuracy:\", best_accuracy)\n",
        "print(\"Test Accuracy:\", test_accuracy)\n",
        "print(\"Classification Report:\\n\", report)"
      ],
      "metadata": {
        "colab": {
          "base_uri": "https://localhost:8080/"
        },
        "id": "52HD0RJe7FGs",
        "outputId": "fc4775ec-2274-461a-fee1-448f5ec55c4f"
      },
      "execution_count": 10,
      "outputs": [
        {
          "output_type": "stream",
          "name": "stdout",
          "text": [
            "Best Parameters: {'n_estimators': 100, 'min_samples_split': 10, 'min_samples_leaf': 4, 'max_features': 'sqrt', 'max_depth': 10}\n",
            "Best Cross-Validation Accuracy: 0.8287402738106963\n",
            "Test Accuracy: 0.8100558659217877\n",
            "Classification Report:\n",
            "               precision    recall  f1-score   support\n",
            "\n",
            "           0       0.81      0.90      0.85       110\n",
            "           1       0.81      0.67      0.73        69\n",
            "\n",
            "    accuracy                           0.81       179\n",
            "   macro avg       0.81      0.78      0.79       179\n",
            "weighted avg       0.81      0.81      0.81       179\n",
            "\n"
          ]
        }
      ]
    }
  ]
}